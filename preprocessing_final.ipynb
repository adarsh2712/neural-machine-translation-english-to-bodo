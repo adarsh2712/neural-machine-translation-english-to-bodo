{
 "cells": [
  {
   "cell_type": "code",
   "execution_count": 79,
   "metadata": {},
   "outputs": [],
   "source": [
    "import string\n",
    "import re\n",
    "from pickle import dump\n",
    "from unicodedata import normalize\n",
    "from numpy import array"
   ]
  },
  {
   "cell_type": "code",
   "execution_count": 80,
   "metadata": {},
   "outputs": [],
   "source": [
    "#load doc into memory\n",
    "def load_doc(filename):\n",
    "# open the file as read only\n",
    "    file = open(filename, mode='rt', encoding='utf-8')\n",
    "# read all text\n",
    "    text = file.read()\n",
    "# close the file\n",
    "    file.close()\n",
    "    return text"
   ]
  },
  {
   "cell_type": "code",
   "execution_count": 81,
   "metadata": {},
   "outputs": [],
   "source": [
    "#split a loaded document into sentences\n",
    "def to_pairs(doc):\n",
    "    lines = doc.strip().split('\\n')\n",
    "    pairs = [line.split('\\t') for line in lines]\n",
    "    return pairs"
   ]
  },
  {
   "cell_type": "code",
   "execution_count": 82,
   "metadata": {},
   "outputs": [],
   "source": [
    "# clean a list of lines\n",
    "def clean_pairs(lines):\n",
    "    cleaned = list()\n",
    "# prepare regex for char filtering\n",
    "    re_punc = re.compile('[%s]' % re.escape(string.punctuation))\n",
    "   # re_print = re.compile('[^%s]' % re.escape(string.printable))\n",
    "    for pair in lines:\n",
    "        clean_pair = list()\n",
    "        for line in pair:\n",
    "# normalize unicode characters\n",
    "            line = normalize('NFD', line).encode('ascii', 'ignore')\n",
    "            line = line.decode('UTF-8')\n",
    "# tokenize on white space\n",
    "            line = line.split()\n",
    "# convert to lowercase\n",
    "            line = [word.lower() for word in line]\n",
    "# remove punctuation from each token\n",
    "            line = [re_punc.sub('', w) for w in line]\n",
    "# remove non-printable chars form each token\n",
    "            #line = [re_print.sub('', w) for w in line]\n",
    "# remove tokens with numbers in them\n",
    "            #line = [word for word in line if word.isalpha()]\n",
    "# store as string\n",
    "            clean_pair.append(' '.join(line))\n",
    "        cleaned.append(clean_pair)\n",
    "    return array(cleaned)"
   ]
  },
  {
   "cell_type": "code",
   "execution_count": 83,
   "metadata": {},
   "outputs": [],
   "source": [
    "# save a list of clean sentences to file\n",
    "def save_clean_data(sentences, filename):\n",
    "    dump(sentences, open(filename, 'wb'))\n",
    "    print('Saved: %s' % filename)"
   ]
  },
  {
   "cell_type": "code",
   "execution_count": 84,
   "metadata": {},
   "outputs": [
    {
     "name": "stdout",
     "output_type": "stream",
     "text": [
      "[['\\ufeffApple', 'आपेल'], ['Application', 'एप्लिकेसन  '], ['Bridge', 'दालां'], ['a', 'ए'], ['able', 'हानाय'], ['about', 'बागै'], ['account', 'हिसाबलाखिनाय '], ['across', 'थोंजों'], ['act', 'फाव  '], ['addition', 'दाजाबनाइ'], ['address', 'थं'], ['adjustment', 'गोरोबहोनाय '], ['advertisement', 'फोसावनाइ  '], ['after', 'उन'], ['again', 'आरोबाव'], ['against', 'उलथा'], ['agreement', 'गोरोबथा'], ['air', 'बार'], ['all', 'गासिबो'], ['among', 'गेजेराव'], ['amount', 'बिबां'], ['amusement', 'रंजानायबाजानाय'], ['and', 'आरो'], ['angle', 'खना'], ['angry', 'रागा'], ['animal', 'जुनार'], ['answer', 'फिननाइ'], ['ant', 'मोसो्म'], ['any', 'जिखुनुजाया'], ['apparatus', 'आइजेंआइला'], ['apple', 'आपेल'], ['approval', 'गनायथिमोननाय'], ['argument', 'फोरमान  '], ['arm', 'आखानथि'], ['army', 'सानथि्हानजा'], ['art', 'खला'], ['as', 'जेरै '], ['at', 'बेव'], ['attack', 'गागोलोबनाइ'], ['attempt', 'नाजानाइ'], ['attention', 'गोसोहोनाय'], ['attraction', 'बोखथाबनाय'], ['automatic', 'गावनोगाव'], ['awake', 'फोजा '], ['baby', 'गथ'], ['back', 'बिखुं'], ['backward', 'गोगलैसोनाय   '], ['bad', 'गाजि्'], ['bag', 'जलंगा'], ['balance', 'समान '], ['base', 'आफां'], ['basket', 'खादा'], ['bath', 'दुगै'], ['beautiful', 'समाइना'], ['because', 'मानोना'], ['bed', 'बिसिना'], ['bee', 'बेरे'], ['before', 'सिगां'], ['behaviour', 'फाव  '], ['bell', 'गाथा'], ['bent', 'गंनाइ'], ['berry', 'बैगि्'], ['between', 'गेजेर'], ['bird', 'दाव'], ['birth', 'जोनोम'], ['bit', 'दानदिसे'], ['bite', 'अरनाइ'], ['bitter', 'गोखा'], ['black', 'गोसोम'], ['blade', 'ळेड'], ['blood', 'थै'], ['blow', 'बारसुनाय'], ['blue', 'गोथां'], ['board', 'गाखोनाइ'], ['boat', 'नाव'], ['body', 'मोदोम'], ['boil', 'फुदुं'], ['boiling', 'फुदुंगासिनो'], ['bone', 'बेगें'], ['book', 'बिजाब'], ['bottle', \"बट'ल\"], ['box', 'बाकसु'], ['boy', 'हौवासा'], ['brain', 'मेलेम'], ['branch', 'दालाइ'], ['brass', 'फिटलाइ'], ['bread', 'फाउरुथि'], ['breath', 'हां'], ['break', 'बाइनाइ'], ['brick', 'इटा'], ['bridge', 'दालां'], ['bright', 'गोजों'], ['broken', 'गावनाइ'], ['elder brother', 'बिदाफंबाइ'], ['younger brother', 'आगै'], ['brother', 'आदा'], ['bucket', 'खादा'], ['bullet', 'गुलि'], ['burn', 'खाम'], ['burst', 'गोबारैबेरफु्नाइ'], ['business', 'फालांगि'], ['but', 'नाथाइ'], ['butter', 'माखन'], ['button', 'गुदाम'], ['cake', 'फिटा'], ['camera', 'सावगारिदिखांगा्'], ['care', 'जोथोनलानाइ'], ['carriage', 'रोगागा्'], ['cat', 'मवजि'], ['cause', 'जाहोन'], ['change', 'सोलाइ'], ['character', 'आखु'], ['cheap', 'दामखम'], ['chest', 'जेरबा'], ['church', 'गिरजा'], ['circle', 'बेंकन'], ['clean', 'साफा'], ['cloth', 'जि  '], ['cloud', 'जोमै'], ['coal', 'खइला'], ['cold', 'गुसु'], ['colour', 'गाब'], ['comb', 'खानजं'], ['come', 'फै'], ['common', 'एखे'], ['comparison', 'रुजुनाइ'], ['competition', 'बादाइलाइनाइ'], ['complete', 'फोजोब'], ['complex', 'गोरा'], ['conscious', 'हुस  '], ['control', 'हमथानाय'], ['cook', 'सं'], ['cotton', 'थुला'], ['cough', 'गुजुनाय'], ['coughing', 'गुजुदों'], ['country', 'हादर'], ['court', 'बिजिरसालि'], ['cow', 'मोसौ'], ['crack', 'गावनाइ'], ['credit', 'बाखि'], ['cruel', 'अहं'], ['cry', 'गाबनाइ'], ['current', 'दाहार '], ['danger', 'गिनांथाव'], ['dark', 'खोमसि'], ['daughter', 'हिनजावसा'], ['day', 'सान'], ['dead', 'थैनाय'], ['dear', 'अनजालि  '], ['death', 'गोथै'], ['deep', 'गोथौ'], ['dependent', 'सोनारनाइ'], ['desire', 'लुबैनाय'], ['destruction', 'फोजोबसा्ंनाय'], ['detail', 'गेबेङै'], ['development', 'जौगाखांनाय'], ['different', 'गुबुन'], ['digestion', 'हजम'], ['direction', 'दिग'], ['dirty', 'गिजा्'], ['discovery', 'दिहुननइ'], ['discussion', 'सावराइनाइ'], ['disease', 'बेराम'], ['distance', 'जानथाइ'], ['distribution', 'राननाहो'], ['division', 'बाहागो'], ['dog', 'सैमा'], ['door', 'दरजा'], ['down', 'गाहाइ'], ['dress', 'गाननायजोमनाय'], ['drink', 'लोंनाइ'], ['driving', 'सालाइनाइ'], ['drop', 'दोन'], ['dry', 'गोरान'], ['dust', 'हादि्'], ['ear', 'खोमा'], ['early', 'सिगां'], ['earth', 'वुहुम'], ['east', 'सानजा'], ['education', 'सोलोंथाइ'], ['egg', 'दावदै'], ['electric', 'मोबलिब'], ['end', 'जोबथा'], ['enough', 'थोबाइ'], ['equalz', 'समानसमान'], ['error', 'गोरोनथि'], ['even', 'अबलाबो'], ['event', 'फोरबो'], ['ever', 'अराय'], ['every', 'गासिबो '], ['example', 'जेरै'], ['exchange', \"सोलाइसोल'\"], ['experience', 'रोंगथि'], ['expert', 'आखाफाखा'], ['eye', 'मेगन'], ['face', 'मोखां'], ['fall', 'गोगलै'], ['false', 'नंखाइ'], ['family', 'नखर'], ['far', 'गोजान'], ['fat', 'गुफुं'], ['father', 'आफा'], ['fear', 'गिनाइ'], ['feather', 'गां'], ['female', 'हिनजाव'], ['field', 'फोथार'], ['fight', 'बुलाय'], ['finger', 'आसि'], ['fire', 'अर  '], ['first', 'सिगां  '], ['fish', 'ना'], ['fixed', 'फाहामनाइ'], ['flag', 'फिरफिला'], ['flame', 'अरसालाय'], ['flat', 'दाबले'], ['floor', 'हासा'], ['flower', 'बिबार'], ['fly', 'बिर'], ['food', 'आदार'], ['foolish', 'जामबा'], ['foot', 'आथिं'], ['force', 'बोलो'], ['forgive', 'निमाहा'], ['fork', 'हेंथासामस'], ['form', 'महर   '], ['forward', 'दैथायफिन'], ['fowl', 'गोरोनथि'], ['free', 'बेसेननाङै'], ['friend', 'लोगो'], ['from', 'निफा्य'], ['front', 'सिगां'], ['fruit', 'फिथाइ'], ['full', 'बरथिक'], ['future', 'इयुन'], ['garden', 'बिबारबारि'], ['girl', 'हिनजवसा'], ['give', 'हो'], ['go', 'थां'], ['goat', 'बोरमा'], ['gold', 'सना'], ['good', 'मोजां'], ['grass', 'हागा्'], ['great', 'गेदेमा'], ['green', 'सोमखोर'], ['growth', 'जौगाखां'], ['gun', 'सिलाइ'], ['hair', 'खानइ'], ['hammer', 'हाथुरा'], ['hand', 'आखाय'], ['hanging', 'सैनाइ'], ['happy', 'गोजोन '], ['hard', 'गोबा्ब'], ['hardware', 'गोराआगजु'], ['hat', 'थुफि'], ['hate', 'सुखुवा'], ['he', 'बे'], ['head', 'खर'], ['hear', 'खोनासं'], ['hearing', 'खोनासंदों'], ['heart', 'बिखा'], ['heat', 'बिदुं'], ['help', 'हेफाजाब'], ['high', 'गोजौ'], ['history', 'जारिमिन'], ['hole', 'गुदुं'], ['holy', 'गोथार'], ['hope', 'मिजिं'], ['horn', 'फेंफा'], ['horse', 'गराय'], ['hospital', 'डकटारखाना'], ['hot', 'गुदुं'], ['house', \"न'\"], ['how', 'माबोरै'], ['I', 'आं'], ['ice', 'बरफ'], ['if', 'जुदि'], ['ill', 'लोमजानाइ'], ['important', 'गोनांथार'], ['increase', 'बाराइ'], ['industry', 'खलखारखाना'], ['ink', 'खालि'], ['insect', 'एमफौएनला'], ['interest', 'सुथ'], ['iron', 'लहा  '], ['jelly', 'आमथा'], ['join', 'जराइनाय'], ['journey', 'दावबाइनाय'], ['judge', 'बिजिरगिरि'], ['jump', 'बारनाय'], ['key', 'साबि'], ['kick', 'जो'], ['kiss', 'खुदुम'], ['knee', 'हानथु'], ['knife', 'दाबा'], ['knowledge', 'गियान'], ['land', 'हा'], ['language', 'राव'], ['last', 'जोबथा'], ['late', 'उन'], ['laugh', 'मिनि'], ['leaf', 'बिलाइ'], ['learn', 'सोलों'], ['learning', 'सोलोंगासिनो'], ['leather', 'बिगुर'], ['left', 'आखि'], ['leg', 'आथिं'], ['letter', 'लायजाम'], ['library', 'बिजाबबाखि्'], ['lift', 'दिखो'], ['line', 'सिन'], ['lip', 'गुसटि'], ['liquid', 'लावलाव'], ['little', 'एसे'], ['living', 'गोथां'], ['long', 'गोलाव'], ['look', 'नाइ'], ['loose', 'गुरै'], ['loss', 'गोमानाइ'], ['loud', 'खरा'], ['love', 'अननाइ '], ['low', 'गाहाइ'], ['make', 'बानाइ'], ['male', 'हौवा'], ['man', 'मानसि'], ['mark', 'दाग'], ['marriage', 'जुलि '], ['married', 'जुलिजाखानाय'], ['marry', 'जुलिजानाइ'], ['mass', 'मोदोम'], ['match', 'सलाइ'], ['meal', 'आदार'], ['measure', 'सुनाय'], ['meat', \"बेद'द\"], ['meeting', 'जथुमनाय'], ['memory', 'गोसोखांगोहो'], ['metal', 'धातु'], ['middle', 'गेजेर'], ['military', 'सानथि्हानजा'], ['milk', 'गाइखेर'], ['mine', 'आंनि'], ['money', 'रां'], ['monkey', 'मोखा्'], ['month', 'दान'], ['moon', 'अखाफोर'], ['morning', 'फुं'], ['mother', 'बिमा'], ['mountain', 'हाजो'], ['mouth', 'खुगा'], ['move', 'दोरोद '], ['music', 'देंखो'], ['nail', 'आसुगुर'], ['name', 'मुं'], ['narrow', 'गुसेब'], ['nation', 'हादर'], ['natural', 'मिथिंगायारी'], ['nature', 'मिथिंगा'], ['near', 'खाथि'], ['necessary', 'गोनांथि'], ['neck', 'गोदोना'], ['need', 'नांगौ'], ['needle', 'बिजि'], ['new', 'गोदान'], ['news', 'सुलुंथाइ'], ['night', 'हर'], ['no', 'नङा'], ['noise', 'दावराव'], ['north', 'साहा'], ['nose', 'गनथं'], ['not', 'नङा'], ['now', 'दानो'], ['number', 'अनजिमा'], ['off', 'बनद'], ['offer', 'हो'], ['oil', 'थाव'], ['old', 'गोजाम'], ['only', 'ल'], ['open', 'खेव'], ['opinion', 'बिबुंथि'], ['opposite', 'उलथा'], ['or', 'एबा'], ['orange', 'खमला'], ['order', 'हुखुम'], ['organization', 'आफाद'], ['ornament', 'गहेना'], ['other', 'गुबुन'], ['out', 'बाइहा्'], ['oven', 'दावदाब'], ['over', 'सा'], ['owner', 'बिगोमा'], ['page', 'बिलाइ'], ['pain', 'सानाय'], ['paint', 'फुन'], ['paper', 'लेखाबिलाइ'], ['parallel', 'लिग'], ['parcel', 'थफ्ला'], ['part', 'बाहागो '], ['password', 'बारगसोदोब'], ['past', 'जाखां  '], ['paste', 'सिथाब'], ['payment', 'बेथन'], ['peace', 'गोजोन'], ['person', 'सुबुं'], ['pig', 'अमा'], ['pin', 'खिला'], ['pipe', 'नलि '], ['place', 'जाइगा'], ['plane', 'समान'], ['plant', 'बिफां'], ['plate', 'थोरसि'], ['play', 'गेले'], ['please', 'अननानै'], ['pleasure', 'गोजोननाइ'], ['plough', 'हालेव'], ['pocket', 'सिफि'], ['point', 'बिन्दो'], ['poison', 'बिष'], ['polish', 'हुगार'], ['poor', 'गोरिब'], ['possible', 'जाथाव'], ['potato', 'आलु'], ['power', 'गोहो'], ['price', 'बेसेन'], ['print', 'साफायनाय '], ['prison', 'जोबथेसालि'], ['problem', 'खैफोड'], ['profit', 'मुलामफा'], ['prose', 'राइथाइ'], ['protest', 'हेंथा'], ['pull', 'बो'], ['punishment', 'साजा'], ['push', 'नार'], ['question', 'सोंनाइ'], ['quick', 'गोखै्'], ['quiet', 'सिरि '], ['quite', 'फुरायै'], ['rain', 'अखा'], ['rat', 'एनजर'], ['ray', 'रोदा'], ['read', 'फराइ'], ['reading', 'फराइदों'], ['reason', 'जाहोन'], ['red', 'गोजा'], ['regret', 'इनायखौसिखारखालामनाय '], ['relation', 'सोमोनदो'], ['religion', 'धोरोम'], ['representative', 'दैदेनगिरि'], ['request', 'खावलाइनाय'], ['respect', 'सनमानहोनाय '], ['responsible', 'बिबानगोनां'], ['rest', 'माखासेफोर  '], ['reward', 'बानथा'], ['rhythm', 'खनथाइ'], ['ribbon', 'फिटा'], ['rice', 'माइरं'], ['right', 'आगदा '], ['ring', 'आचटाम'], ['river', 'दैमा'], ['road', 'लामा'], ['roof', 'उखुम'], ['room', 'खथा'], ['root', 'रोदा'], ['rough ', 'खुथु्खाथा्'], ['round', 'दुलुर'], ['rub', 'हुगार'], ['run', 'खार'], ['sad', 'दुखु'], ['sail', 'जाव'], ['salt', 'संखि्'], ['same', 'एखे'], ['sand', 'बाला'], ['sapling', 'फुलि'], ['save', 'रैखाखालामनाइ  '], ['say', 'बुं'], ['school', 'फराइसालि'], ['science', 'बिगियान'], ['scissors', 'खेमसि'], ['sea', 'लैथो'], ['seat', 'जिराइ '], ['second', 'नैथि'], ['see', 'नाइ'], ['seed', 'बेगर'], ['selection', 'बासि'], ['self', 'गावनो'], ['send', 'फाथाइ'], ['separate', 'आलादा'], ['sex', 'आथोन  '], ['shade', 'साया'], ['shake', 'सोमावनाइ'], ['shame', 'लासिंसिं'], ['sharp', 'जंफार'], ['sheep', 'बोरमामेनदा'], ['shelf', 'बैसां'], ['ship', 'जाहास'], ['shirt', 'गसला'], ['shock', 'बागदावनाइ'], ['shoe', 'जुथा'], ['short', 'गुसुं'], ['shut', 'फांथे'], ['side', 'फारसे'], ['sign', 'सहि'], ['simple', 'गोरलै'], ['sister', 'बिबबिनानाव'], ['skin', 'बिगुर'], ['sky', 'अखरां'], ['sleep', 'उनदु'], ['slow', 'लासै'], ['small', 'फिसा'], ['smell', 'मोनामनाइ'], ['smile', 'मिनिसलु'], ['smoke', 'उखुनदै'], ['snake', 'जिबौ'], ['sneeze', 'हारसिउनाइ'], ['soap', 'साबुन'], ['soft', 'गुरै'], ['software', 'गुरैआगजु'], ['solid', 'गथा'], ['some', 'माखासे'], ['son', 'फिसाजला'], ['song', 'गान'], ['south', 'खोला'], ['spade', 'खनथा'], ['sponge', 'मैखुन'], ['spoon', 'सामुस'], ['square', 'बगॅ'], ['star', 'हाथरखि'], ['start', 'जागायजेन'], ['statement', 'बिबुथिनाय'], ['steam', 'दैखफ'], ['stick', 'लावथि'], ['sticky', 'सिथाब थाब'], ['still', 'दिदोम  '], ['stitch', 'सुथेनाइ'], ['stomach', 'उदै'], ['stone', 'अनथाइ'], ['stop', 'लाखि'], ['store', 'दोनथुम'], ['story', \"स'ल'\"], ['straight', 'सिदा'], ['street', 'लामा'], ['stretch', 'बोफलाव'], ['strong', 'गोरा'], ['sudden', 'हरखाब'], ['sugar', 'सिनि'], ['summer', 'दैजलां'], ['sun', 'सान'], ['support', 'हेफाजाब'], ['sweet', 'गोदै'], ['swim', 'सानसि्'], ['table', 'आरांगा'], ['tail', 'लानजाय'], ['take', 'ला'], ['talk', 'रायलाइ'], ['tall', 'लानजाइ'], ['taste', 'साखिनाइ'], ['teaching', 'फोरोंनाइ'], ['that', 'ब'], ['then', 'अबला'], ['there', 'बैयाव'], ['thick', 'रोजा'], ['thin', 'गाहाम '], ['thing', 'जिनिस'], ['think', 'साननाय'], ['this', 'नैबे'], ['thought', 'सानदोंमोन'], ['throat', 'गोदोना'], ['thumb', 'आसि बिमा'], ['thunder', 'अखाखोरोमनाइ'], ['time', 'समाइ'], ['together', 'ज'], ['tomorrow', 'गाबोन'], ['tongue', 'सालाइ'], ['tooth', 'हाथाय'], ['top', 'जौसिन'], ['touch', 'दांलिर'], ['trade', 'बेफार'], ['train', 'रेलगारि'], ['transport', 'दैथाइ'], ['tree', 'दंफां '], ['true', 'सैथो'], ['turn', 'गिदिं'], ['umbrella', 'साथा'], ['under', 'सिं'], ['universe', 'मुलुग'], ['universal', 'मुलुगनां'], ['up ', 'गोजौ'], ['use', 'बाहाइ'], ['very', 'जोबोर'], ['violent', 'गिलुफालु'], ['voice', 'गारां'], ['wait', 'ने'], ['waiting', 'नेगासिनो'], ['walk', 'थाबाइ'], ['wall', 'बेरा'], ['war', 'दावहा'], ['warm', 'दुंहावहाव'], ['wash', 'सुसा्'], ['watch', 'नाइ'], ['water', 'दै'], ['way', 'लामा'], ['weather', 'बोथोर'], ['week', 'सबथाह'], ['weight', 'गिलिर'], ['well', 'दैखर'], ['welcome', 'गोजोनफै'], ['west', 'सोनाब'], ['wet', 'गिसि'], ['when', 'माबला'], ['where', 'बहा'], ['white', 'गुफुर'], ['who', 'सोर'], ['why', 'मानो'], ['wide', 'गुवार'], ['wind', 'बार'], ['window', 'खिरखि'], ['wine', 'जौ'], ['wing', 'गांखं'], ['winter', 'गोजांबोथोर'], ['wise', 'सोलोगोनां'], ['woman', 'हिनजाव'], ['wood', 'दंफां'], ['word', 'सोदोब'], ['work', 'खामानि'], ['worm', 'खानसि्'], ['wound', 'गाराय'], ['write', 'लिर'], ['writing', 'लिरनाइ'], ['wrong', 'गोरोनथि '], ['year', 'बोसोर'], ['yellow', 'गोमो'], ['yes', 'नंगौ'], ['yesterday', 'मैया'], ['you', 'नों'], ['young', 'लायमोन'], ['Paper Size', 'सफा नाप'], ['Login Name', 'लाग-इन नांऽ'], ['Hint Answer', 'संकेत परता'], ['Mobile Phone', 'मोबाइल फोन'], ['Date of Birth', 'जन्म दी तरीक'], ['Hint Question', 'संकेत सोआल'], ['Recent pages', 'ताजातरीन सफे'], ['Account Details', 'खाता तफसीलां'], ['ReType Password', 'पासवर्ड परतियै टाइप करो'], ['Bring All to Front', 'सब सामनै आह्\\u200cन्नो'], ['Home Page Selection', 'उद्\\u200cगम सफा चोन'], ['Welcome Humans', 'मनुक्खो  थुआढ़ा  सुआगत ऐ'], ['Tell us about Yourself', 'अपने बारे च असेंगी दस्सो'], ['Must be same as Password', 'पासवर्ड जनेहा होना लोड़चदा'], ['Choose a Hint Question whose answer only you will know', 'इक  संकेत सोआल तालो जिसदा परता सिर्फ तुसेंगी पता होग']]\n",
      "Saved: english-bodo.pkl\n",
      "[﻿Apple] => [आपेल]\n",
      "[Application] => [एप्लिकेसन  ]\n",
      "[Bridge] => [दालां]\n",
      "[a] => [ए]\n",
      "[able] => [हानाय]\n",
      "[about] => [बागै]\n",
      "[account] => [हिसाबलाखिनाय ]\n",
      "[across] => [थोंजों]\n",
      "[act] => [फाव  ]\n",
      "[addition] => [दाजाबनाइ]\n",
      "[address] => [थं]\n",
      "[adjustment] => [गोरोबहोनाय ]\n",
      "[advertisement] => [फोसावनाइ  ]\n",
      "[after] => [उन]\n",
      "[again] => [आरोबाव]\n",
      "[against] => [उलथा]\n",
      "[agreement] => [गोरोबथा]\n",
      "[air] => [बार]\n",
      "[all] => [गासिबो]\n",
      "[among] => [गेजेराव]\n",
      "[amount] => [बिबां]\n",
      "[amusement] => [रंजानायबाजानाय]\n",
      "[and] => [आरो]\n",
      "[angle] => [खना]\n",
      "[angry] => [रागा]\n",
      "[animal] => [जुनार]\n",
      "[answer] => [फिननाइ]\n",
      "[ant] => [मोसो्म]\n",
      "[any] => [जिखुनुजाया]\n",
      "[apparatus] => [आइजेंआइला]\n",
      "[apple] => [आपेल]\n",
      "[approval] => [गनायथिमोननाय]\n",
      "[argument] => [फोरमान  ]\n",
      "[arm] => [आखानथि]\n",
      "[army] => [सानथि्हानजा]\n",
      "[art] => [खला]\n",
      "[as] => [जेरै ]\n",
      "[at] => [बेव]\n",
      "[attack] => [गागोलोबनाइ]\n",
      "[attempt] => [नाजानाइ]\n",
      "[attention] => [गोसोहोनाय]\n",
      "[attraction] => [बोखथाबनाय]\n",
      "[automatic] => [गावनोगाव]\n",
      "[awake] => [फोजा ]\n",
      "[baby] => [गथ]\n",
      "[back] => [बिखुं]\n",
      "[backward] => [गोगलैसोनाय   ]\n",
      "[bad] => [गाजि्]\n",
      "[bag] => [जलंगा]\n",
      "[balance] => [समान ]\n",
      "[base] => [आफां]\n",
      "[basket] => [खादा]\n",
      "[bath] => [दुगै]\n",
      "[beautiful] => [समाइना]\n",
      "[because] => [मानोना]\n",
      "[bed] => [बिसिना]\n",
      "[bee] => [बेरे]\n",
      "[before] => [सिगां]\n",
      "[behaviour] => [फाव  ]\n",
      "[bell] => [गाथा]\n",
      "[bent] => [गंनाइ]\n",
      "[berry] => [बैगि्]\n",
      "[between] => [गेजेर]\n",
      "[bird] => [दाव]\n",
      "[birth] => [जोनोम]\n",
      "[bit] => [दानदिसे]\n",
      "[bite] => [अरनाइ]\n",
      "[bitter] => [गोखा]\n",
      "[black] => [गोसोम]\n",
      "[blade] => [ळेड]\n",
      "[blood] => [थै]\n",
      "[blow] => [बारसुनाय]\n",
      "[blue] => [गोथां]\n",
      "[board] => [गाखोनाइ]\n",
      "[boat] => [नाव]\n",
      "[body] => [मोदोम]\n",
      "[boil] => [फुदुं]\n",
      "[boiling] => [फुदुंगासिनो]\n",
      "[bone] => [बेगें]\n",
      "[book] => [बिजाब]\n",
      "[bottle] => [बट'ल]\n",
      "[box] => [बाकसु]\n",
      "[boy] => [हौवासा]\n",
      "[brain] => [मेलेम]\n",
      "[branch] => [दालाइ]\n",
      "[brass] => [फिटलाइ]\n",
      "[bread] => [फाउरुथि]\n",
      "[breath] => [हां]\n",
      "[break] => [बाइनाइ]\n",
      "[brick] => [इटा]\n",
      "[bridge] => [दालां]\n",
      "[bright] => [गोजों]\n",
      "[broken] => [गावनाइ]\n",
      "[elder brother] => [बिदाफंबाइ]\n",
      "[younger brother] => [आगै]\n",
      "[brother] => [आदा]\n",
      "[bucket] => [खादा]\n",
      "[bullet] => [गुलि]\n",
      "[burn] => [खाम]\n",
      "[burst] => [गोबारैबेरफु्नाइ]\n"
     ]
    }
   ],
   "source": [
    "#load dataset\n",
    "filename = 'bodo.txt'\n",
    "doc = load_doc(filename)\n",
    "# split into english-german pairs\n",
    "pairs = to_pairs(doc)\n",
    "# clean sentences\n",
    "clean_pairs = pairs\n",
    "print(clean_pairs)\n",
    "# save clean pairs to file\n",
    "save_clean_data(clean_pairs, 'english-bodo.pkl')\n",
    "# spot check\n",
    "for i in range(100):\n",
    "    print('[%s] => [%s]' % (clean_pairs[i][0], clean_pairs[i][1]))"
   ]
  },
  {
   "cell_type": "code",
   "execution_count": null,
   "metadata": {},
   "outputs": [],
   "source": []
  },
  {
   "cell_type": "code",
   "execution_count": null,
   "metadata": {},
   "outputs": [],
   "source": []
  },
  {
   "cell_type": "code",
   "execution_count": null,
   "metadata": {},
   "outputs": [],
   "source": []
  },
  {
   "cell_type": "code",
   "execution_count": null,
   "metadata": {},
   "outputs": [],
   "source": []
  },
  {
   "cell_type": "code",
   "execution_count": null,
   "metadata": {},
   "outputs": [],
   "source": []
  },
  {
   "cell_type": "code",
   "execution_count": null,
   "metadata": {},
   "outputs": [],
   "source": []
  },
  {
   "cell_type": "code",
   "execution_count": null,
   "metadata": {},
   "outputs": [],
   "source": []
  },
  {
   "cell_type": "code",
   "execution_count": null,
   "metadata": {},
   "outputs": [],
   "source": []
  },
  {
   "cell_type": "code",
   "execution_count": null,
   "metadata": {},
   "outputs": [],
   "source": []
  },
  {
   "cell_type": "code",
   "execution_count": null,
   "metadata": {},
   "outputs": [],
   "source": []
  },
  {
   "cell_type": "code",
   "execution_count": null,
   "metadata": {},
   "outputs": [],
   "source": []
  },
  {
   "cell_type": "code",
   "execution_count": null,
   "metadata": {},
   "outputs": [],
   "source": []
  }
 ],
 "metadata": {
  "kernelspec": {
   "display_name": "Python 3",
   "language": "python",
   "name": "python3"
  },
  "language_info": {
   "codemirror_mode": {
    "name": "ipython",
    "version": 3
   },
   "file_extension": ".py",
   "mimetype": "text/x-python",
   "name": "python",
   "nbconvert_exporter": "python",
   "pygments_lexer": "ipython3",
   "version": "3.7.3"
  }
 },
 "nbformat": 4,
 "nbformat_minor": 2
}
